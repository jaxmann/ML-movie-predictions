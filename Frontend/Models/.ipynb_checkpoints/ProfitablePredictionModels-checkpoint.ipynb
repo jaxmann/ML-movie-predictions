{
 "cells": [
  {
   "cell_type": "code",
   "execution_count": 60,
   "metadata": {},
   "outputs": [
    {
     "ename": "SyntaxError",
     "evalue": "non-keyword arg after keyword arg (<ipython-input-60-46ebcfb137a1>, line 77)",
     "output_type": "error",
     "traceback": [
      "\u001b[0;36m  File \u001b[0;32m\"<ipython-input-60-46ebcfb137a1>\"\u001b[0;36m, line \u001b[0;32m77\u001b[0m\n\u001b[0;31m    plot_confusion_matrix(cnf_matrix, classes=class_names, normalize=True, title)\u001b[0m\n\u001b[0;31mSyntaxError\u001b[0m\u001b[0;31m:\u001b[0m non-keyword arg after keyword arg\n"
     ]
    }
   ],
   "source": [
    "import numpy as np\n",
    "import pandas as pd\n",
    "import itertools\n",
    "\n",
    "from sklearn import svm\n",
    "from sklearn.neighbors import KNeighborsClassifier\n",
    "\n",
    "from sklearn.metrics import accuracy_score\n",
    "from sklearn.metrics import confusion_matrix\n",
    "\n",
    "import matplotlib.pyplot as plt\n",
    "\n",
    "knn_clf = KNeighborsClassifier()\n",
    "\n",
    "svm_clf = svm.SVC(kernel='linear', max_iter=1000000)\n",
    "\n",
    "\n",
    "\n",
    "def is_positive(row):\n",
    "    if row > 0:\n",
    "        return 1\n",
    "    else:\n",
    "        return 0\n",
    "\n",
    "def plot_confusion_matrix(cm, classes,\n",
    "                      normalize=True,\n",
    "                      title='Confusion matrix',\n",
    "                      cmap=plt.cm.Blues):\n",
    "    \"\"\"\n",
    "    This function prints and plots the confusion matrix.\n",
    "    Normalization can be applied by setting `normalize=True`.\n",
    "    \"\"\"\n",
    "    if normalize:\n",
    "        cm = cm.astype('float') / cm.sum(axis=1)[:, np.newaxis]\n",
    "        # print(\"Normalized confusion matrix\")\n",
    "    else:\n",
    "        cm = cm\n",
    "\n",
    "    plt.imshow(cm, interpolation='nearest', cmap=cmap)\n",
    "    plt.title(title)\n",
    "    plt.colorbar()\n",
    "    tick_marks = np.arange(len(classes))\n",
    "    plt.xticks(tick_marks, classes, rotation=45)\n",
    "    plt.yticks(tick_marks, classes)\n",
    "\n",
    "    fmt = '.2f' if normalize else 'd'\n",
    "    thresh = cm.max() / 2.\n",
    "    for i, j in itertools.product(range(cm.shape[0]), range(cm.shape[1])):\n",
    "        plt.text(j, i, format(cm[i, j], fmt),\n",
    "                 horizontalalignment=\"center\",\n",
    "                 color=\"white\" if cm[i, j] > thresh else \"black\")\n",
    "\n",
    "    plt.tight_layout()\n",
    "    plt.ylabel('True Profitable Value')\n",
    "    plt.xlabel('Predicted Profitable Value')\n",
    "    plt.tight_layout()\n",
    "    \n",
    "def fit_test_and_plot(X_train, X_test, Y_train, Y_test, model, model_name, title=\"Confusion Matrix\"):\n",
    "    model.fit(X_train, Y_train)\n",
    "    train_predicted_labels = knn_clf.predict(X_train)\n",
    "    test_predicted_labels = knn_clf.predict(X_test)\n",
    "\n",
    "    training_accuracy = accuracy_score(Y_train, train_predicted_labels)\n",
    "    testing_accuracy = accuracy_score(Y_test, test_predicted_labels)\n",
    "\n",
    "    print model_name + \" Training accuracy: \" + str(training_accuracy)\n",
    "    print model_name + \" Testing accuracy: \" + str(testing_accuracy)\n",
    "\n",
    "    #compute confusion matrix\n",
    "    class_names = [\"Not-Profitable\", \"Profitable\"]\n",
    "    cnf_matrix = confusion_matrix(Y_test, test_predicted_labels)\n",
    "    np.set_printoptions(precision=2)\n",
    "\n",
    "    # Plot normalized confusion matrix\n",
    "    plt.figure()\n",
    "    class_names = [0, 1]\n",
    "    plot_confusion_matrix(cnf_matrix, classes=class_names, normalize=True, title=title)\n",
    "    plt.show()"
   ]
  },
  {
   "cell_type": "code",
   "execution_count": 56,
   "metadata": {},
   "outputs": [],
   "source": [
    "training_data = pd.read_csv(\"../Data/outTrain.tsv\", sep=\"\\t\")\n",
    "testing_data = pd.read_csv(\"../Data/outTest.tsv\", sep=\"\\t\")\n",
    "\n",
    "training_profit = training_data[\"Domestic Total Gross\"] - training_data[\"Production Budget\"]\n",
    "testing_profit = testing_data[\"Domestic Total Gross\"] - testing_data[\"Production Budget\"]\n",
    "# profit"
   ]
  },
  {
   "cell_type": "code",
   "execution_count": 57,
   "metadata": {},
   "outputs": [
    {
     "data": {
      "text/plain": [
       "0    176\n",
       "1    156\n",
       "dtype: int64"
      ]
     },
     "execution_count": 57,
     "metadata": {},
     "output_type": "execute_result"
    }
   ],
   "source": [
    "training_labels = training_profit.apply(is_positive)\n",
    "testing_labels = testing_profit.apply(is_positive)\n",
    "\n",
    "training_labels.value_counts()\n",
    "testing_labels.value_counts()"
   ]
  },
  {
   "cell_type": "markdown",
   "metadata": {},
   "source": [
    "## Predictions With All Numeric Features"
   ]
  },
  {
   "cell_type": "code",
   "execution_count": 58,
   "metadata": {},
   "outputs": [],
   "source": [
    "training_data = training_data[[\"year\", \"min_age\", \"runtime(min)\", \"metacriticRating\", \"YearReleased\", \"MonthReleased\", \"viewCount\", \"commentCount\", \"likeCount\", \"dislikeCount\", \"Production Budget\", \"polarity_confidence\", \"subjectivity_confidence\", \"actorAR\", \"directorAR\", \"languageAR\", \"countryAR\", \"genreAR\", \"ratingAR\", \"productionAR\", \"distributionAR\" ]]\n",
    "testing_data = testing_data[[\"year\", \"min_age\", \"runtime(min)\", \"metacriticRating\", \"YearReleased\", \"MonthReleased\", \"viewCount\", \"commentCount\", \"likeCount\", \"dislikeCount\", \"Production Budget\", \"polarity_confidence\", \"subjectivity_confidence\", \"actorAR\", \"directorAR\", \"languageAR\", \"countryAR\", \"genreAR\", \"ratingAR\", \"productionAR\", \"distributionAR\" ]]\n",
    "\n",
    "training_data = training_data.fillna(value=0)\n",
    "testing_data = testing_data.fillna(value=0)\n"
   ]
  },
  {
   "cell_type": "code",
   "execution_count": 59,
   "metadata": {},
   "outputs": [
    {
     "ename": "TypeError",
     "evalue": "fit_test_and_plot() takes at least 6 arguments (6 given)",
     "output_type": "error",
     "traceback": [
      "\u001b[0;31m---------------------------------------------------------------------------\u001b[0m",
      "\u001b[0;31mTypeError\u001b[0m                                 Traceback (most recent call last)",
      "\u001b[0;32m<ipython-input-59-9d2f65b491f2>\u001b[0m in \u001b[0;36m<module>\u001b[0;34m()\u001b[0m\n\u001b[0;32m----> 1\u001b[0;31m \u001b[0mfit_test_and_plot\u001b[0m\u001b[0;34m(\u001b[0m\u001b[0mtraining_data\u001b[0m\u001b[0;34m,\u001b[0m \u001b[0mtesting_data\u001b[0m\u001b[0;34m,\u001b[0m \u001b[0mtraining_labels\u001b[0m\u001b[0;34m,\u001b[0m \u001b[0mmodel\u001b[0m\u001b[0;34m=\u001b[0m\u001b[0mknn_clf\u001b[0m\u001b[0;34m,\u001b[0m \u001b[0mmodel_name\u001b[0m\u001b[0;34m=\u001b[0m\u001b[0;34m\"KNN\"\u001b[0m\u001b[0;34m,\u001b[0m \u001b[0mtitle\u001b[0m\u001b[0;34m=\u001b[0m\u001b[0;34m'KNN Confusion Matrix'\u001b[0m\u001b[0;34m)\u001b[0m\u001b[0;34m\u001b[0m\u001b[0m\n\u001b[0m\u001b[1;32m      2\u001b[0m \u001b[0;34m\u001b[0m\u001b[0m\n",
      "\u001b[0;31mTypeError\u001b[0m: fit_test_and_plot() takes at least 6 arguments (6 given)"
     ]
    }
   ],
   "source": [
    "fit_test_and_plot(training_data, testing_data, training_labels, model=knn_clf, model_name=\"KNN\", title='KNN Confusion Matrix')\n",
    "\n"
   ]
  },
  {
   "cell_type": "code",
   "execution_count": 32,
   "metadata": {},
   "outputs": [
    {
     "name": "stdout",
     "output_type": "stream",
     "text": [
      "KNN Training accuracy: 0.916\n",
      "KNN Testing accuracy: 0.58734939759\n"
     ]
    },
    {
     "data": {
      "image/png": "[encoded data removed]",
      "text/plain": [
       "<matplotlib.figure.Figure at 0x107fd8850>"
      ]
     },
     "metadata": {},
     "output_type": "display_data"
    }
   ],
   "source": [
    "knn_clf.fit(training_data, training_labels)\n",
    "train_predicted_labels = knn_clf.predict(training_data)\n",
    "test_predicted_labels = knn_clf.predict(testing_data)\n",
    "\n",
    "training_accuracy = accuracy_score(training_labels, train_predicted_labels)\n",
    "testing_accuracy = accuracy_score(testing_labels, test_predicted_labels)\n",
    "\n",
    "print \"KNN Training accuracy: \" + str(training_accuracy)\n",
    "print \"KNN Testing accuracy: \" + str(testing_accuracy)\n",
    "\n",
    "#compute confusion matrix\n",
    "class_names = [\"Not-Profitable\", \"Profitable\"]\n",
    "cnf_matrix = confusion_matrix(testing_labels, test_predicted_labels)\n",
    "np.set_printoptions(precision=2)\n",
    "\n",
    "# Plot normalized confusion matrix\n",
    "plt.figure()\n",
    "class_names = [0, 1]\n",
    "plot_confusion_matrix(cnf_matrix, classes=class_names, normalize=True, title='KNN Confusion Matrix')\n",
    "plt.show()"
   ]
  },
  {
   "cell_type": "code",
   "execution_count": 33,
   "metadata": {},
   "outputs": [
    {
     "name": "stdout",
     "output_type": "stream",
     "text": [
      "SVM Training accuracy: 0.789\n",
      "SVM Testing accuracy: 0.578313253012\n"
     ]
    },
    {
     "data": {
      "image/png": "[encoded data removed]",
      "text/plain": [
       "<matplotlib.figure.Figure at 0x107fef650>"
      ]
     },
     "metadata": {},
     "output_type": "display_data"
    }
   ],
   "source": [
    "svm_clf.fit(training_data, training_labels)\n",
    "train_predicted_labels = svm_clf.predict(training_data)\n",
    "test_predicted_labels = svm_clf.predict(testing_data)\n",
    "\n",
    "training_accuracy = accuracy_score(training_labels, train_predicted_labels)\n",
    "testing_accuracy = accuracy_score(testing_labels, test_predicted_labels)\n",
    "\n",
    "print \"SVM Training accuracy: \" + str(training_accuracy)\n",
    "print \"SVM Testing accuracy: \" + str(testing_accuracy)\n",
    "\n",
    "#compute confusion matrix\n",
    "class_names = [\"Not-Profitable\", \"Profitable\"]\n",
    "cnf_matrix = confusion_matrix(testing_labels, test_predicted_labels)\n",
    "np.set_printoptions(precision=2)\n",
    "\n",
    "# Plot normalized confusion matrix\n",
    "plt.figure()\n",
    "class_names = [0, 1]\n",
    "plot_confusion_matrix(cnf_matrix, classes=class_names, normalize=True, title=\"Linear SVM Confusion Matrix\")\n",
    "plt.show()"
   ]
  },
  {
   "cell_type": "markdown",
   "metadata": {},
   "source": [
    "## Predictions Without Our Features"
   ]
  },
  {
   "cell_type": "code",
   "execution_count": 29,
   "metadata": {},
   "outputs": [],
   "source": [
    "training_data_common_feaures = training_data[[\"min_age\", \"runtime(min)\", \"metacriticRating\", \"YearReleased\", \"MonthReleased\", \"Production Budget\"]]\n",
    "testing_data_common_features = testing_data[[\"min_age\", \"runtime(min)\", \"metacriticRating\", \"YearReleased\", \"MonthReleased\", \"Production Budget\"]]"
   ]
  },
  {
   "cell_type": "code",
   "execution_count": 35,
   "metadata": {},
   "outputs": [
    {
     "name": "stdout",
     "output_type": "stream",
     "text": [
      "KNN Training accuracy: 0.695\n",
      "KNN Testing accuracy: 0.551204819277\n"
     ]
    },
    {
     "data": {
      "image/png": "[encoded data removed]",
      "text/plain": [
       "<matplotlib.figure.Figure at 0x10748c0d0>"
      ]
     },
     "metadata": {},
     "output_type": "display_data"
    }
   ],
   "source": [
    "knn_clf.fit(training_data_common_feaures, training_labels)\n",
    "train_predicted_labels = knn_clf.predict(training_data_common_feaures)\n",
    "test_predicted_labels = knn_clf.predict(testing_data_common_features)\n",
    "\n",
    "training_accuracy = accuracy_score(training_labels, train_predicted_labels)\n",
    "testing_accuracy = accuracy_score(testing_labels, test_predicted_labels)\n",
    "\n",
    "print \"KNN Training accuracy: \" + str(training_accuracy)\n",
    "print \"KNN Testing accuracy: \" + str(testing_accuracy)\n",
    "\n",
    "#compute confusion matrix\n",
    "class_names = [\"Not-Profitable\", \"Profitable\"]\n",
    "cnf_matrix = confusion_matrix(testing_labels, test_predicted_labels)\n",
    "np.set_printoptions(precision=2)\n",
    "\n",
    "# Plot normalized confusion matrix\n",
    "plt.figure()\n",
    "class_names = [0, 1]\n",
    "plot_confusion_matrix(cnf_matrix, classes=class_names, normalize=True, title=\"KNN w/ Common Features Confusion Matrix\")\n",
    "plt.show()"
   ]
  },
  {
   "cell_type": "code",
   "execution_count": 36,
   "metadata": {},
   "outputs": [
    {
     "name": "stdout",
     "output_type": "stream",
     "text": [
      "SVM Training accuracy: 0.495\n",
      "SVM Testing accuracy: 0.530120481928\n"
     ]
    },
    {
     "data": {
      "image/png": "[encoded data removed]",
      "text/plain": [
       "<matplotlib.figure.Figure at 0x1080a7a50>"
      ]
     },
     "metadata": {},
     "output_type": "display_data"
    }
   ],
   "source": [
    "svm_clf.fit(training_data_common_feaures, training_labels)\n",
    "train_predicted_labels = svm_clf.predict(training_data_common_feaures)\n",
    "test_predicted_labels = svm_clf.predict(testing_data_common_features)\n",
    "\n",
    "training_accuracy = accuracy_score(training_labels, train_predicted_labels)\n",
    "testing_accuracy = accuracy_score(testing_labels, test_predicted_labels)\n",
    "\n",
    "print \"SVM Training accuracy: \" + str(training_accuracy)\n",
    "print \"SVM Testing accuracy: \" + str(testing_accuracy)\n",
    "\n",
    "#compute confusion matrix\n",
    "class_names = [\"Not-Profitable\", \"Profitable\"]\n",
    "cnf_matrix = confusion_matrix(testing_labels, test_predicted_labels)\n",
    "np.set_printoptions(precision=2)\n",
    "\n",
    "# Plot normalized confusion matrix\n",
    "plt.figure()\n",
    "class_names = [0, 1]\n",
    "plot_confusion_matrix(cnf_matrix, classes=class_names, normalize=True, title=\"Linear SVM w/ Common Features Confusion Matrix\")\n",
    "plt.show()"
   ]
  },
  {
   "cell_type": "code",
   "execution_count": null,
   "metadata": {},
   "outputs": [],
   "source": []
  }
 ],
 "metadata": {
  "kernelspec": {
   "display_name": "Python 2",
   "language": "python",
   "name": "python2"
  },
  "language_info": {
   "codemirror_mode": {
    "name": "ipython",
    "version": 2
   },
   "file_extension": ".py",
   "mimetype": "text/x-python",
   "name": "python",
   "nbconvert_exporter": "python",
   "pygments_lexer": "ipython2",
   "version": "2.7.14"
  }
 },
 "nbformat": 4,
 "nbformat_minor": 2
}
