{
 "cells": [
  {
   "cell_type": "code",
   "execution_count": 68,
   "metadata": {},
   "outputs": [],
   "source": [
    "import numpy as np\n",
    "import pandas as pd\n",
    "\n",
    "from sklearn import svm\n",
    "from sklearn.neighbors import KNeighborsClassifier\n",
    "\n",
    "from sklearn.metrics import accuracy_score\n",
    "\n",
    "knn_clf = KNeighborsClassifier()\n",
    "\n",
    "svm_clf = svm.SVC()\n",
    "\n",
    "def is_positive(row):\n",
    "    if row > 0:\n",
    "        return 1\n",
    "    else:\n",
    "        return 0"
   ]
  },
  {
   "cell_type": "code",
   "execution_count": 69,
   "metadata": {},
   "outputs": [],
   "source": [
    "training_data = pd.read_csv(\"../Data/outTrain.tsv\", sep=\"\\t\")\n",
    "testing_data = pd.read_csv(\"../Data/outTest.tsv\", sep=\"\\t\")\n",
    "\n",
    "training_profit = training_data[\"Domestic Total Gross\"] - training_data[\"Production Budget\"]\n",
    "testing_profit = testing_data[\"Domestic Total Gross\"] - testing_data[\"Production Budget\"]\n",
    "# profit"
   ]
  },
  {
   "cell_type": "code",
   "execution_count": 70,
   "metadata": {},
   "outputs": [],
   "source": [
    "training_labels = training_profit.apply(is_positive)\n",
    "testing_labels = testing_profit.apply(is_positive)\n",
    "# training_labels"
   ]
  },
  {
   "cell_type": "code",
   "execution_count": 73,
   "metadata": {},
   "outputs": [],
   "source": [
    "training_data = training_data[[\"year\", \"min_age\", \"runtime(min)\", \"metacriticRating\", \"YearReleased\", \"MonthReleased\", \"viewCount\", \"commentCount\", \"likeCount\", \"dislikeCount\", \"Production Budget\", \"polarity_confidence\", \"subjectivity_confidence\", \"actorAR\", \"directorAR\", \"languageAR\", \"countryAR\", \"genreAR\", \"ratingAR\", \"productionAR\", \"distributionAR\" ]]\n",
    "testing_data = testing_data[[\"year\", \"min_age\", \"runtime(min)\", \"metacriticRating\", \"YearReleased\", \"MonthReleased\", \"viewCount\", \"commentCount\", \"likeCount\", \"dislikeCount\", \"Production Budget\", \"polarity_confidence\", \"subjectivity_confidence\", \"actorAR\", \"directorAR\", \"languageAR\", \"countryAR\", \"genreAR\", \"ratingAR\", \"productionAR\", \"distributionAR\" ]]\n",
    "\n",
    "training_data = training_data.fillna(value=0)\n",
    "testing_data = testing_data.fillna(value=0)\n"
   ]
  },
  {
   "cell_type": "code",
   "execution_count": 74,
   "metadata": {},
   "outputs": [
    {
     "name": "stdout",
     "output_type": "stream",
     "text": [
      "KNN Training accuracy: 0.916\n",
      "KNN Testing accuracy: 0.58734939759\n"
     ]
    }
   ],
   "source": [
    "knn_clf.fit(training_data, training_labels)\n",
    "train_predicted_labels = knn_clf.predict(training_data)\n",
    "test_predicted_labels = knn_clf.predict(testing_data)\n",
    "\n",
    "training_accuracy = accuracy_score(training_labels, train_predicted_labels)\n",
    "testing_accuracy = accuracy_score(testing_labels, test_predicted_labels)\n",
    "\n",
    "print \"KNN Training accuracy: \" + str(training_accuracy)\n",
    "print \"KNN Testing accuracy: \" + str(testing_accuracy)"
   ]
  },
  {
   "cell_type": "code",
   "execution_count": 75,
   "metadata": {},
   "outputs": [
    {
     "name": "stdout",
     "output_type": "stream",
     "text": [
      "SVM Training accuracy: 1.0\n",
      "SVM Testing accuracy: 0.469879518072\n"
     ]
    }
   ],
   "source": [
    "svm_clf.fit(training_data, training_labels)\n",
    "train_predicted_labels = svm_clf.predict(training_data)\n",
    "test_predicted_labels = svm_clf.predict(testing_data)\n",
    "\n",
    "training_accuracy = accuracy_score(training_labels, train_predicted_labels)\n",
    "testing_accuracy = accuracy_score(testing_labels, test_predicted_labels)\n",
    "\n",
    "print \"SVM Training accuracy: \" + str(training_accuracy)\n",
    "print \"SVM Testing accuracy: \" + str(testing_accuracy)"
   ]
  },
  {
   "cell_type": "code",
   "execution_count": null,
   "metadata": {},
   "outputs": [],
   "source": []
  }
 ],
 "metadata": {
  "kernelspec": {
   "display_name": "Python 2",
   "language": "python",
   "name": "python2"
  },
  "language_info": {
   "codemirror_mode": {
    "name": "ipython",
    "version": 2
   },
   "file_extension": ".py",
   "mimetype": "text/x-python",
   "name": "python",
   "nbconvert_exporter": "python",
   "pygments_lexer": "ipython2",
   "version": "2.7.14"
  }
 },
 "nbformat": 4,
 "nbformat_minor": 2
}
